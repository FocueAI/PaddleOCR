{
 "cells": [
  {
   "cell_type": "code",
   "execution_count": 2,
   "metadata": {},
   "outputs": [],
   "source": [
    "import os"
   ]
  },
  {
   "cell_type": "code",
   "execution_count": null,
   "metadata": {},
   "outputs": [],
   "source": [
    "[2024/09/10 11:39:45] ppocr INFO: metric eval ***************\n",
    "[2024/09/10 11:39:45] ppocr INFO: precision:0.8410804020100503\n",
    "[2024/09/10 11:39:45] ppocr INFO: recall:0.8229870928088506\n",
    "[2024/09/10 11:39:45] ppocr INFO: hmean:0.8319353836595216\n",
    "[2024/09/10 11:39:45] ppocr INFO: fps:19.025385198264857"
   ]
  },
  {
   "cell_type": "code",
   "execution_count": 3,
   "metadata": {},
   "outputs": [],
   "source": [
    "epoches = [ i for i in range(10,510,10)]"
   ]
  },
  {
   "cell_type": "code",
   "execution_count": 4,
   "metadata": {},
   "outputs": [
    {
     "name": "stdout",
     "output_type": "stream",
     "text": [
      "----- 10 -----\n"
     ]
    },
    {
     "name": "stderr",
     "output_type": "stream",
     "text": [
      "W0910 13:30:25.070591 398047 gpu_resources.cc:119] Please NOTE: device: 0, GPU Compute Capability: 8.9, Driver API Version: 12.2, Runtime API Version: 11.8\n",
      "W0910 13:30:25.071552 398047 gpu_resources.cc:164] device: 0, cuDNN Version: 8.7.\n",
      "eval model:: 100%|██████████| 294/294 [00:19<00:00, 15.41it/s]\n"
     ]
    },
    {
     "name": "stdout",
     "output_type": "stream",
     "text": [
      "[2024/09/10 13:30:44] ppocr CRITICAL: precision:0.8373298768632534\n",
      "[2024/09/10 13:30:44] ppocr CRITICAL: recall:0.794099569760295\n",
      "[2024/09/10 13:30:44] ppocr CRITICAL: hmean:0.8151419558359622\n",
      "[2024/09/10 13:30:44] ppocr CRITICAL: fps:17.07607070236819\n",
      "----- 20 -----\n"
     ]
    },
    {
     "name": "stderr",
     "output_type": "stream",
     "text": [
      "W0910 13:30:47.921444 398286 gpu_resources.cc:119] Please NOTE: device: 0, GPU Compute Capability: 8.9, Driver API Version: 12.2, Runtime API Version: 11.8\n",
      "W0910 13:30:47.922039 398286 gpu_resources.cc:164] device: 0, cuDNN Version: 8.7.\n",
      "eval model:: 100%|██████████| 294/294 [00:17<00:00, 17.07it/s]\n"
     ]
    },
    {
     "name": "stdout",
     "output_type": "stream",
     "text": [
      "[2024/09/10 13:31:05] ppocr CRITICAL: precision:0.849428208386277\n",
      "[2024/09/10 13:31:05] ppocr CRITICAL: recall:0.8217578365089121\n",
      "[2024/09/10 13:31:05] ppocr CRITICAL: hmean:0.8353639487660107\n",
      "[2024/09/10 13:31:05] ppocr CRITICAL: fps:19.053674352319742\n",
      "----- 30 -----\n"
     ]
    },
    {
     "name": "stderr",
     "output_type": "stream",
     "text": [
      "W0910 13:31:08.068586 398506 gpu_resources.cc:119] Please NOTE: device: 0, GPU Compute Capability: 8.9, Driver API Version: 12.2, Runtime API Version: 11.8\n",
      "W0910 13:31:08.069162 398506 gpu_resources.cc:164] device: 0, cuDNN Version: 8.7.\n",
      "eval model:: 100%|██████████| 294/294 [00:17<00:00, 16.92it/s]\n"
     ]
    },
    {
     "name": "stdout",
     "output_type": "stream",
     "text": [
      "[2024/09/10 13:31:25] ppocr CRITICAL: precision:0.8985714285714286\n",
      "[2024/09/10 13:31:25] ppocr CRITICAL: recall:0.7732022126613399\n",
      "[2024/09/10 13:31:25] ppocr CRITICAL: hmean:0.8311859927320779\n",
      "[2024/09/10 13:31:25] ppocr CRITICAL: fps:18.910036574088984\n",
      "----- 40 -----\n"
     ]
    },
    {
     "name": "stderr",
     "output_type": "stream",
     "text": [
      "W0910 13:31:28.467921 398727 gpu_resources.cc:119] Please NOTE: device: 0, GPU Compute Capability: 8.9, Driver API Version: 12.2, Runtime API Version: 11.8\n",
      "W0910 13:31:28.468508 398727 gpu_resources.cc:164] device: 0, cuDNN Version: 8.7.\n",
      "eval model:: 100%|██████████| 294/294 [00:18<00:00, 16.07it/s]\n"
     ]
    },
    {
     "name": "stdout",
     "output_type": "stream",
     "text": [
      "[2024/09/10 13:31:47] ppocr CRITICAL: precision:0.841640378548896\n",
      "[2024/09/10 13:31:47] ppocr CRITICAL: recall:0.8199139520590043\n",
      "[2024/09/10 13:31:47] ppocr CRITICAL: hmean:0.8306351183063512\n",
      "[2024/09/10 13:31:47] ppocr CRITICAL: fps:17.900801839544993\n",
      "----- 50 -----\n"
     ]
    },
    {
     "name": "stderr",
     "output_type": "stream",
     "text": [
      "W0910 13:31:50.509974 399022 gpu_resources.cc:119] Please NOTE: device: 0, GPU Compute Capability: 8.9, Driver API Version: 12.2, Runtime API Version: 11.8\n",
      "W0910 13:31:50.510556 399022 gpu_resources.cc:164] device: 0, cuDNN Version: 8.7.\n",
      "eval model:: 100%|██████████| 294/294 [00:18<00:00, 16.00it/s]\n"
     ]
    },
    {
     "name": "stdout",
     "output_type": "stream",
     "text": [
      "[2024/09/10 13:32:09] ppocr CRITICAL: precision:0.8443579766536965\n",
      "[2024/09/10 13:32:09] ppocr CRITICAL: recall:0.8002458512599877\n",
      "[2024/09/10 13:32:09] ppocr CRITICAL: hmean:0.8217103187125275\n",
      "[2024/09/10 13:32:09] ppocr CRITICAL: fps:17.69719721258304\n",
      "----- 60 -----\n"
     ]
    },
    {
     "name": "stderr",
     "output_type": "stream",
     "text": [
      "W0910 13:32:12.514433 399280 gpu_resources.cc:119] Please NOTE: device: 0, GPU Compute Capability: 8.9, Driver API Version: 12.2, Runtime API Version: 11.8\n",
      "W0910 13:32:12.515066 399280 gpu_resources.cc:164] device: 0, cuDNN Version: 8.7.\n",
      "eval model:: 100%|██████████| 294/294 [00:17<00:00, 17.10it/s]\n"
     ]
    },
    {
     "name": "stdout",
     "output_type": "stream",
     "text": [
      "[2024/09/10 13:32:30] ppocr CRITICAL: precision:0.8709248170326015\n",
      "[2024/09/10 13:32:30] ppocr CRITICAL: recall:0.8045482483097726\n",
      "[2024/09/10 13:32:30] ppocr CRITICAL: hmean:0.8364217252396168\n",
      "[2024/09/10 13:32:30] ppocr CRITICAL: fps:18.925751511914804\n",
      "----- 70 -----\n"
     ]
    },
    {
     "name": "stderr",
     "output_type": "stream",
     "text": [
      "W0910 13:32:33.570756 399537 gpu_resources.cc:119] Please NOTE: device: 0, GPU Compute Capability: 8.9, Driver API Version: 12.2, Runtime API Version: 11.8\n",
      "W0910 13:32:33.571339 399537 gpu_resources.cc:164] device: 0, cuDNN Version: 8.7.\n",
      "eval model:: 100%|██████████| 294/294 [00:18<00:00, 16.21it/s]\n"
     ]
    },
    {
     "name": "stdout",
     "output_type": "stream",
     "text": [
      "[2024/09/10 13:32:52] ppocr CRITICAL: precision:0.8111319574734209\n",
      "[2024/09/10 13:32:52] ppocr CRITICAL: recall:0.7971727105101414\n",
      "[2024/09/10 13:32:52] ppocr CRITICAL: hmean:0.8040917544947304\n",
      "[2024/09/10 13:32:52] ppocr CRITICAL: fps:18.055711448990444\n",
      "----- 80 -----\n"
     ]
    },
    {
     "name": "stderr",
     "output_type": "stream",
     "text": [
      "W0910 13:32:55.392352 399763 gpu_resources.cc:119] Please NOTE: device: 0, GPU Compute Capability: 8.9, Driver API Version: 12.2, Runtime API Version: 11.8\n",
      "W0910 13:32:55.392932 399763 gpu_resources.cc:164] device: 0, cuDNN Version: 8.7.\n",
      "eval model:: 100%|██████████| 294/294 [00:17<00:00, 16.94it/s]\n"
     ]
    },
    {
     "name": "stdout",
     "output_type": "stream",
     "text": [
      "[2024/09/10 13:33:13] ppocr CRITICAL: precision:0.8739042481456507\n",
      "[2024/09/10 13:33:13] ppocr CRITICAL: recall:0.7965580823601721\n",
      "[2024/09/10 13:33:13] ppocr CRITICAL: hmean:0.8334405144694534\n",
      "[2024/09/10 13:33:13] ppocr CRITICAL: fps:18.77763501322935\n",
      "----- 90 -----\n"
     ]
    },
    {
     "name": "stderr",
     "output_type": "stream",
     "text": [
      "W0910 13:33:15.685844 399981 gpu_resources.cc:119] Please NOTE: device: 0, GPU Compute Capability: 8.9, Driver API Version: 12.2, Runtime API Version: 11.8\n",
      "W0910 13:33:15.686430 399981 gpu_resources.cc:164] device: 0, cuDNN Version: 8.7.\n",
      "eval model:: 100%|██████████| 294/294 [00:16<00:00, 17.44it/s]\n"
     ]
    },
    {
     "name": "stdout",
     "output_type": "stream",
     "text": [
      "[2024/09/10 13:33:33] ppocr CRITICAL: precision:0.8397898883782009\n",
      "[2024/09/10 13:33:33] ppocr CRITICAL: recall:0.7861094038106945\n",
      "[2024/09/10 13:33:33] ppocr CRITICAL: hmean:0.812063492063492\n",
      "[2024/09/10 13:33:33] ppocr CRITICAL: fps:19.361855361108287\n",
      "----- 100 -----\n"
     ]
    },
    {
     "name": "stderr",
     "output_type": "stream",
     "text": [
      "W0910 13:33:35.470305 400199 gpu_resources.cc:119] Please NOTE: device: 0, GPU Compute Capability: 8.9, Driver API Version: 12.2, Runtime API Version: 11.8\n",
      "W0910 13:33:35.470878 400199 gpu_resources.cc:164] device: 0, cuDNN Version: 8.7.\n",
      "eval model:: 100%|██████████| 294/294 [00:17<00:00, 16.45it/s]\n"
     ]
    },
    {
     "name": "stdout",
     "output_type": "stream",
     "text": [
      "[2024/09/10 13:33:53] ppocr CRITICAL: precision:0.8653566229985444\n",
      "[2024/09/10 13:33:53] ppocr CRITICAL: recall:0.7307928703134604\n",
      "[2024/09/10 13:33:53] ppocr CRITICAL: hmean:0.7924025324891704\n",
      "[2024/09/10 13:33:53] ppocr CRITICAL: fps:18.214749560767096\n",
      "----- 110 -----\n"
     ]
    },
    {
     "name": "stderr",
     "output_type": "stream",
     "text": [
      "W0910 13:33:56.876384 400421 gpu_resources.cc:119] Please NOTE: device: 0, GPU Compute Capability: 8.9, Driver API Version: 12.2, Runtime API Version: 11.8\n",
      "W0910 13:33:56.877346 400421 gpu_resources.cc:164] device: 0, cuDNN Version: 8.7.\n",
      "eval model:: 100%|██████████| 294/294 [00:18<00:00, 15.66it/s]\n"
     ]
    },
    {
     "name": "stdout",
     "output_type": "stream",
     "text": [
      "[2024/09/10 13:34:16] ppocr CRITICAL: precision:0.8413926499032882\n",
      "[2024/09/10 13:34:16] ppocr CRITICAL: recall:0.8020897357098955\n",
      "[2024/09/10 13:34:16] ppocr CRITICAL: hmean:0.8212712397734424\n",
      "[2024/09/10 13:34:16] ppocr CRITICAL: fps:17.54962214723285\n",
      "----- 120 -----\n"
     ]
    },
    {
     "name": "stderr",
     "output_type": "stream",
     "text": [
      "W0910 13:34:19.797365 400645 gpu_resources.cc:119] Please NOTE: device: 0, GPU Compute Capability: 8.9, Driver API Version: 12.2, Runtime API Version: 11.8\n",
      "W0910 13:34:19.798333 400645 gpu_resources.cc:164] device: 0, cuDNN Version: 8.7.\n",
      "eval model:: 100%|██████████| 294/294 [00:17<00:00, 16.39it/s]\n"
     ]
    },
    {
     "name": "stdout",
     "output_type": "stream",
     "text": [
      "[2024/09/10 13:34:38] ppocr CRITICAL: precision:0.8357519788918206\n",
      "[2024/09/10 13:34:38] ppocr CRITICAL: recall:0.7787338660110633\n",
      "[2024/09/10 13:34:38] ppocr CRITICAL: hmean:0.8062360801781738\n",
      "[2024/09/10 13:34:38] ppocr CRITICAL: fps:18.25322869449751\n",
      "----- 130 -----\n"
     ]
    },
    {
     "name": "stderr",
     "output_type": "stream",
     "text": [
      "W0910 13:34:41.851943 400885 gpu_resources.cc:119] Please NOTE: device: 0, GPU Compute Capability: 8.9, Driver API Version: 12.2, Runtime API Version: 11.8\n",
      "W0910 13:34:41.852504 400885 gpu_resources.cc:164] device: 0, cuDNN Version: 8.7.\n",
      "eval model:: 100%|██████████| 294/294 [00:16<00:00, 17.40it/s]\n"
     ]
    },
    {
     "name": "stdout",
     "output_type": "stream",
     "text": [
      "[2024/09/10 13:34:59] ppocr CRITICAL: precision:0.8555555555555555\n",
      "[2024/09/10 13:34:59] ppocr CRITICAL: recall:0.7572218807621389\n",
      "[2024/09/10 13:34:59] ppocr CRITICAL: hmean:0.8033909357678514\n",
      "[2024/09/10 13:34:59] ppocr CRITICAL: fps:19.218892036140872\n",
      "----- 140 -----\n"
     ]
    },
    {
     "name": "stderr",
     "output_type": "stream",
     "text": [
      "W0910 13:35:02.746739 401112 gpu_resources.cc:119] Please NOTE: device: 0, GPU Compute Capability: 8.9, Driver API Version: 12.2, Runtime API Version: 11.8\n",
      "W0910 13:35:02.747407 401112 gpu_resources.cc:164] device: 0, cuDNN Version: 8.7.\n",
      "eval model:: 100%|██████████| 294/294 [00:17<00:00, 16.91it/s]\n"
     ]
    },
    {
     "name": "stdout",
     "output_type": "stream",
     "text": [
      "[2024/09/10 13:35:20] ppocr CRITICAL: precision:0.7867417135709819\n",
      "[2024/09/10 13:35:20] ppocr CRITICAL: recall:0.7732022126613399\n",
      "[2024/09/10 13:35:20] ppocr CRITICAL: hmean:0.7799132052076876\n",
      "[2024/09/10 13:35:20] ppocr CRITICAL: fps:18.85000917182123\n",
      "----- 150 -----\n"
     ]
    },
    {
     "name": "stderr",
     "output_type": "stream",
     "text": [
      "W0910 13:35:23.924669 401326 gpu_resources.cc:119] Please NOTE: device: 0, GPU Compute Capability: 8.9, Driver API Version: 12.2, Runtime API Version: 11.8\n",
      "W0910 13:35:23.925252 401326 gpu_resources.cc:164] device: 0, cuDNN Version: 8.7.\n",
      "eval model:: 100%|██████████| 294/294 [00:16<00:00, 17.31it/s]\n"
     ]
    },
    {
     "name": "stdout",
     "output_type": "stream",
     "text": [
      "[2024/09/10 13:35:41] ppocr CRITICAL: precision:0.8220338983050848\n",
      "[2024/09/10 13:35:41] ppocr CRITICAL: recall:0.7154271665642287\n",
      "[2024/09/10 13:35:41] ppocr CRITICAL: hmean:0.7650345054222807\n",
      "[2024/09/10 13:35:41] ppocr CRITICAL: fps:19.085390980975564\n",
      "----- 160 -----\n"
     ]
    },
    {
     "name": "stderr",
     "output_type": "stream",
     "text": [
      "W0910 13:35:44.766629 401536 gpu_resources.cc:119] Please NOTE: device: 0, GPU Compute Capability: 8.9, Driver API Version: 12.2, Runtime API Version: 11.8\n",
      "W0910 13:35:44.767338 401536 gpu_resources.cc:164] device: 0, cuDNN Version: 8.7.\n",
      "eval model:: 100%|██████████| 294/294 [00:17<00:00, 17.24it/s]\n"
     ]
    },
    {
     "name": "stdout",
     "output_type": "stream",
     "text": [
      "[2024/09/10 13:36:02] ppocr CRITICAL: precision:0.8742138364779874\n",
      "[2024/09/10 13:36:02] ppocr CRITICAL: recall:0.768899815611555\n",
      "[2024/09/10 13:36:02] ppocr CRITICAL: hmean:0.8181818181818181\n",
      "[2024/09/10 13:36:02] ppocr CRITICAL: fps:19.135922870673866\n",
      "----- 170 -----\n"
     ]
    },
    {
     "name": "stderr",
     "output_type": "stream",
     "text": [
      "W0910 13:36:05.685433 401744 gpu_resources.cc:119] Please NOTE: device: 0, GPU Compute Capability: 8.9, Driver API Version: 12.2, Runtime API Version: 11.8\n",
      "W0910 13:36:05.686412 401744 gpu_resources.cc:164] device: 0, cuDNN Version: 8.7.\n",
      "eval model:: 100%|██████████| 294/294 [00:17<00:00, 17.22it/s]\n"
     ]
    },
    {
     "name": "stdout",
     "output_type": "stream",
     "text": [
      "[2024/09/10 13:36:23] ppocr CRITICAL: precision:0.8454038997214485\n",
      "[2024/09/10 13:36:23] ppocr CRITICAL: recall:0.746158574062692\n",
      "[2024/09/10 13:36:23] ppocr CRITICAL: hmean:0.792686908259876\n",
      "[2024/09/10 13:36:23] ppocr CRITICAL: fps:19.1024040200632\n",
      "----- 180 -----\n"
     ]
    },
    {
     "name": "stderr",
     "output_type": "stream",
     "text": [
      "W0910 13:36:25.705096 401954 gpu_resources.cc:119] Please NOTE: device: 0, GPU Compute Capability: 8.9, Driver API Version: 12.2, Runtime API Version: 11.8\n",
      "W0910 13:36:25.705670 401954 gpu_resources.cc:164] device: 0, cuDNN Version: 8.7.\n",
      "eval model:: 100%|██████████| 294/294 [00:16<00:00, 17.46it/s]\n"
     ]
    },
    {
     "name": "stdout",
     "output_type": "stream",
     "text": [
      "[2024/09/10 13:36:42] ppocr CRITICAL: precision:0.8300475866757308\n",
      "[2024/09/10 13:36:42] ppocr CRITICAL: recall:0.750460971112477\n",
      "[2024/09/10 13:36:42] ppocr CRITICAL: hmean:0.7882504841833442\n",
      "[2024/09/10 13:36:42] ppocr CRITICAL: fps:19.486097443083466\n",
      "----- 190 -----\n"
     ]
    },
    {
     "name": "stderr",
     "output_type": "stream",
     "text": [
      "W0910 13:36:46.352419 402162 gpu_resources.cc:119] Please NOTE: device: 0, GPU Compute Capability: 8.9, Driver API Version: 12.2, Runtime API Version: 11.8\n",
      "W0910 13:36:46.353379 402162 gpu_resources.cc:164] device: 0, cuDNN Version: 8.7.\n",
      "eval model:: 100%|██████████| 294/294 [00:16<00:00, 18.06it/s]\n"
     ]
    },
    {
     "name": "stdout",
     "output_type": "stream",
     "text": [
      "[2024/09/10 13:37:03] ppocr CRITICAL: precision:0.8280922431865828\n",
      "[2024/09/10 13:37:03] ppocr CRITICAL: recall:0.7283343577135832\n",
      "[2024/09/10 13:37:03] ppocr CRITICAL: hmean:0.7750163505559189\n",
      "[2024/09/10 13:37:03] ppocr CRITICAL: fps:20.07513484340846\n",
      "----- 200 -----\n"
     ]
    },
    {
     "name": "stderr",
     "output_type": "stream",
     "text": [
      "W0910 13:37:06.641614 402369 gpu_resources.cc:119] Please NOTE: device: 0, GPU Compute Capability: 8.9, Driver API Version: 12.2, Runtime API Version: 11.8\n",
      "W0910 13:37:06.642576 402369 gpu_resources.cc:164] device: 0, cuDNN Version: 8.7.\n",
      "eval model:: 100%|██████████| 294/294 [00:17<00:00, 16.79it/s]\n"
     ]
    },
    {
     "name": "stdout",
     "output_type": "stream",
     "text": [
      "[2024/09/10 13:37:24] ppocr CRITICAL: precision:0.8614840989399293\n",
      "[2024/09/10 13:37:24] ppocr CRITICAL: recall:0.7492317148125384\n",
      "[2024/09/10 13:37:24] ppocr CRITICAL: hmean:0.8014464168310322\n",
      "[2024/09/10 13:37:24] ppocr CRITICAL: fps:18.58972563043177\n",
      "----- 210 -----\n"
     ]
    },
    {
     "name": "stderr",
     "output_type": "stream",
     "text": [
      "W0910 13:37:28.278982 402579 gpu_resources.cc:119] Please NOTE: device: 0, GPU Compute Capability: 8.9, Driver API Version: 12.2, Runtime API Version: 11.8\n",
      "W0910 13:37:28.279951 402579 gpu_resources.cc:164] device: 0, cuDNN Version: 8.7.\n",
      "eval model:: 100%|██████████| 294/294 [00:17<00:00, 17.03it/s]\n"
     ]
    },
    {
     "name": "stdout",
     "output_type": "stream",
     "text": [
      "[2024/09/10 13:37:45] ppocr CRITICAL: precision:0.8434237995824635\n",
      "[2024/09/10 13:37:45] ppocr CRITICAL: recall:0.7449293177627535\n",
      "[2024/09/10 13:37:45] ppocr CRITICAL: hmean:0.7911227154046998\n",
      "[2024/09/10 13:37:45] ppocr CRITICAL: fps:18.79505660097657\n",
      "----- 220 -----\n"
     ]
    },
    {
     "name": "stderr",
     "output_type": "stream",
     "text": [
      "W0910 13:37:49.398414 402793 gpu_resources.cc:119] Please NOTE: device: 0, GPU Compute Capability: 8.9, Driver API Version: 12.2, Runtime API Version: 11.8\n",
      "W0910 13:37:49.398989 402793 gpu_resources.cc:164] device: 0, cuDNN Version: 8.7.\n",
      "eval model:: 100%|██████████| 294/294 [00:16<00:00, 17.63it/s]\n"
     ]
    },
    {
     "name": "stdout",
     "output_type": "stream",
     "text": [
      "[2024/09/10 13:38:06] ppocr CRITICAL: precision:0.8621722846441947\n",
      "[2024/09/10 13:38:06] ppocr CRITICAL: recall:0.7074370006146281\n",
      "[2024/09/10 13:38:06] ppocr CRITICAL: hmean:0.7771775827143821\n",
      "[2024/09/10 13:38:06] ppocr CRITICAL: fps:19.49936009701819\n",
      "----- 230 -----\n"
     ]
    },
    {
     "name": "stderr",
     "output_type": "stream",
     "text": [
      "W0910 13:38:08.896637 403000 gpu_resources.cc:119] Please NOTE: device: 0, GPU Compute Capability: 8.9, Driver API Version: 12.2, Runtime API Version: 11.8\n",
      "W0910 13:38:08.897214 403000 gpu_resources.cc:164] device: 0, cuDNN Version: 8.7.\n",
      "eval model:: 100%|██████████| 294/294 [00:16<00:00, 17.56it/s]\n"
     ]
    },
    {
     "name": "stdout",
     "output_type": "stream",
     "text": [
      "[2024/09/10 13:38:26] ppocr CRITICAL: precision:0.8446186742694227\n",
      "[2024/09/10 13:38:26] ppocr CRITICAL: recall:0.7283343577135832\n",
      "[2024/09/10 13:38:26] ppocr CRITICAL: hmean:0.7821782178217821\n",
      "[2024/09/10 13:38:26] ppocr CRITICAL: fps:19.50398602435536\n",
      "----- 240 -----\n"
     ]
    },
    {
     "name": "stderr",
     "output_type": "stream",
     "text": [
      "W0910 13:38:29.657577 403207 gpu_resources.cc:119] Please NOTE: device: 0, GPU Compute Capability: 8.9, Driver API Version: 12.2, Runtime API Version: 11.8\n",
      "W0910 13:38:29.658516 403207 gpu_resources.cc:164] device: 0, cuDNN Version: 8.7.\n",
      "eval model:: 100%|██████████| 294/294 [00:17<00:00, 17.18it/s]\n"
     ]
    },
    {
     "name": "stdout",
     "output_type": "stream",
     "text": [
      "[2024/09/10 13:38:47] ppocr CRITICAL: precision:0.8168498168498168\n",
      "[2024/09/10 13:38:47] ppocr CRITICAL: recall:0.6853103872157345\n",
      "[2024/09/10 13:38:47] ppocr CRITICAL: hmean:0.7453208556149733\n",
      "[2024/09/10 13:38:47] ppocr CRITICAL: fps:19.157029977315286\n",
      "----- 250 -----\n"
     ]
    },
    {
     "name": "stderr",
     "output_type": "stream",
     "text": [
      "W0910 13:38:50.655695 403417 gpu_resources.cc:119] Please NOTE: device: 0, GPU Compute Capability: 8.9, Driver API Version: 12.2, Runtime API Version: 11.8\n",
      "W0910 13:38:50.656636 403417 gpu_resources.cc:164] device: 0, cuDNN Version: 8.7.\n",
      "eval model:: 100%|██████████| 294/294 [00:16<00:00, 17.49it/s]\n"
     ]
    },
    {
     "name": "stdout",
     "output_type": "stream",
     "text": [
      "[2024/09/10 13:39:07] ppocr CRITICAL: precision:0.7713801862828111\n",
      "[2024/09/10 13:39:07] ppocr CRITICAL: recall:0.5599262446220037\n",
      "[2024/09/10 13:39:07] ppocr CRITICAL: hmean:0.6488603988603988\n",
      "[2024/09/10 13:39:07] ppocr CRITICAL: fps:19.115778731361278\n",
      "----- 260 -----\n"
     ]
    },
    {
     "name": "stderr",
     "output_type": "stream",
     "text": [
      "W0910 13:39:11.222332 403625 gpu_resources.cc:119] Please NOTE: device: 0, GPU Compute Capability: 8.9, Driver API Version: 12.2, Runtime API Version: 11.8\n",
      "W0910 13:39:11.222903 403625 gpu_resources.cc:164] device: 0, cuDNN Version: 8.7.\n",
      "eval model:: 100%|██████████| 294/294 [00:16<00:00, 17.49it/s]\n"
     ]
    },
    {
     "name": "stdout",
     "output_type": "stream",
     "text": [
      "[2024/09/10 13:39:28] ppocr CRITICAL: precision:0.7381756756756757\n",
      "[2024/09/10 13:39:28] ppocr CRITICAL: recall:0.5371850030731408\n",
      "[2024/09/10 13:39:28] ppocr CRITICAL: hmean:0.6218427605834224\n",
      "[2024/09/10 13:39:28] ppocr CRITICAL: fps:19.149258041695948\n",
      "----- 270 -----\n"
     ]
    },
    {
     "name": "stderr",
     "output_type": "stream",
     "text": [
      "W0910 13:39:32.011420 403835 gpu_resources.cc:119] Please NOTE: device: 0, GPU Compute Capability: 8.9, Driver API Version: 12.2, Runtime API Version: 11.8\n",
      "W0910 13:39:32.012388 403835 gpu_resources.cc:164] device: 0, cuDNN Version: 8.7.\n",
      "eval model:: 100%|██████████| 294/294 [00:17<00:00, 16.79it/s]\n"
     ]
    },
    {
     "name": "stdout",
     "output_type": "stream",
     "text": [
      "[2024/09/10 13:39:50] ppocr CRITICAL: precision:0.8087167070217918\n",
      "[2024/09/10 13:39:50] ppocr CRITICAL: recall:0.6158574062692072\n",
      "[2024/09/10 13:39:50] ppocr CRITICAL: hmean:0.6992323796231681\n",
      "[2024/09/10 13:39:50] ppocr CRITICAL: fps:18.711909862013012\n",
      "----- 280 -----\n"
     ]
    },
    {
     "name": "stderr",
     "output_type": "stream",
     "text": [
      "W0910 13:39:53.130851 404046 gpu_resources.cc:119] Please NOTE: device: 0, GPU Compute Capability: 8.9, Driver API Version: 12.2, Runtime API Version: 11.8\n",
      "W0910 13:39:53.131798 404046 gpu_resources.cc:164] device: 0, cuDNN Version: 8.7.\n",
      "eval model:: 100%|██████████| 294/294 [00:17<00:00, 16.62it/s]\n"
     ]
    },
    {
     "name": "stdout",
     "output_type": "stream",
     "text": [
      "[2024/09/10 13:40:11] ppocr CRITICAL: precision:0.8078149920255183\n",
      "[2024/09/10 13:40:11] ppocr CRITICAL: recall:0.6226183159188691\n",
      "[2024/09/10 13:40:11] ppocr CRITICAL: hmean:0.7032280458174245\n",
      "[2024/09/10 13:40:11] ppocr CRITICAL: fps:18.298110371319055\n",
      "----- 290 -----\n"
     ]
    },
    {
     "name": "stderr",
     "output_type": "stream",
     "text": [
      "W0910 13:40:14.808259 404257 gpu_resources.cc:119] Please NOTE: device: 0, GPU Compute Capability: 8.9, Driver API Version: 12.2, Runtime API Version: 11.8\n",
      "W0910 13:40:14.809197 404257 gpu_resources.cc:164] device: 0, cuDNN Version: 8.7.\n",
      "eval model:: 100%|██████████| 294/294 [00:16<00:00, 17.36it/s]\n"
     ]
    },
    {
     "name": "stdout",
     "output_type": "stream",
     "text": [
      "[2024/09/10 13:40:32] ppocr CRITICAL: precision:0.8390166534496432\n",
      "[2024/09/10 13:40:32] ppocr CRITICAL: recall:0.6502765826674862\n",
      "[2024/09/10 13:40:32] ppocr CRITICAL: hmean:0.7326869806094183\n",
      "[2024/09/10 13:40:32] ppocr CRITICAL: fps:19.023110281632192\n",
      "----- 300 -----\n"
     ]
    },
    {
     "name": "stderr",
     "output_type": "stream",
     "text": [
      "W0910 13:40:35.687659 404467 gpu_resources.cc:119] Please NOTE: device: 0, GPU Compute Capability: 8.9, Driver API Version: 12.2, Runtime API Version: 11.8\n",
      "W0910 13:40:35.688233 404467 gpu_resources.cc:164] device: 0, cuDNN Version: 8.7.\n",
      "eval model:: 100%|██████████| 294/294 [00:16<00:00, 17.89it/s]\n"
     ]
    },
    {
     "name": "stdout",
     "output_type": "stream",
     "text": [
      "[2024/09/10 13:40:52] ppocr CRITICAL: precision:0.8340147179067866\n",
      "[2024/09/10 13:40:52] ppocr CRITICAL: recall:0.6269207129686539\n",
      "[2024/09/10 13:40:52] ppocr CRITICAL: hmean:0.7157894736842105\n",
      "[2024/09/10 13:40:52] ppocr CRITICAL: fps:19.6909407647979\n",
      "----- 310 -----\n"
     ]
    },
    {
     "name": "stderr",
     "output_type": "stream",
     "text": [
      "W0910 13:40:55.777138 404674 gpu_resources.cc:119] Please NOTE: device: 0, GPU Compute Capability: 8.9, Driver API Version: 12.2, Runtime API Version: 11.8\n",
      "W0910 13:40:55.777740 404674 gpu_resources.cc:164] device: 0, cuDNN Version: 8.7.\n",
      "eval model:: 100%|██████████| 294/294 [00:16<00:00, 18.15it/s]\n"
     ]
    },
    {
     "name": "stdout",
     "output_type": "stream",
     "text": [
      "[2024/09/10 13:41:12] ppocr CRITICAL: precision:0.8333333333333334\n",
      "[2024/09/10 13:41:12] ppocr CRITICAL: recall:0.5255070682237246\n",
      "[2024/09/10 13:41:12] ppocr CRITICAL: hmean:0.6445533358462118\n",
      "[2024/09/10 13:41:12] ppocr CRITICAL: fps:19.794148876256916\n",
      "----- 320 -----\n"
     ]
    },
    {
     "name": "stderr",
     "output_type": "stream",
     "text": [
      "W0910 13:41:15.564860 404881 gpu_resources.cc:119] Please NOTE: device: 0, GPU Compute Capability: 8.9, Driver API Version: 12.2, Runtime API Version: 11.8\n",
      "W0910 13:41:15.565443 404881 gpu_resources.cc:164] device: 0, cuDNN Version: 8.7.\n",
      "eval model:: 100%|██████████| 294/294 [00:16<00:00, 17.46it/s]\n"
     ]
    },
    {
     "name": "stdout",
     "output_type": "stream",
     "text": [
      "[2024/09/10 13:41:32] ppocr CRITICAL: precision:0.8359788359788359\n",
      "[2024/09/10 13:41:32] ppocr CRITICAL: recall:0.6797787338660111\n",
      "[2024/09/10 13:41:32] ppocr CRITICAL: hmean:0.7498305084745762\n",
      "[2024/09/10 13:41:32] ppocr CRITICAL: fps:19.25623215026879\n",
      "----- 330 -----\n"
     ]
    },
    {
     "name": "stderr",
     "output_type": "stream",
     "text": [
      "W0910 13:41:36.100915 405146 gpu_resources.cc:119] Please NOTE: device: 0, GPU Compute Capability: 8.9, Driver API Version: 12.2, Runtime API Version: 11.8\n",
      "W0910 13:41:36.101500 405146 gpu_resources.cc:164] device: 0, cuDNN Version: 8.7.\n",
      "eval model:: 100%|██████████| 294/294 [00:16<00:00, 17.61it/s]\n"
     ]
    },
    {
     "name": "stdout",
     "output_type": "stream",
     "text": [
      "[2024/09/10 13:41:53] ppocr CRITICAL: precision:0.8318512530315278\n",
      "[2024/09/10 13:41:53] ppocr CRITICAL: recall:0.6324523663183774\n",
      "[2024/09/10 13:41:53] ppocr CRITICAL: hmean:0.7185754189944135\n",
      "[2024/09/10 13:41:53] ppocr CRITICAL: fps:19.317432332298615\n",
      "----- 340 -----\n"
     ]
    },
    {
     "name": "stderr",
     "output_type": "stream",
     "text": [
      "W0910 13:41:56.421716 405365 gpu_resources.cc:119] Please NOTE: device: 0, GPU Compute Capability: 8.9, Driver API Version: 12.2, Runtime API Version: 11.8\n",
      "W0910 13:41:56.422318 405365 gpu_resources.cc:164] device: 0, cuDNN Version: 8.7.\n",
      "eval model:: 100%|██████████| 294/294 [00:17<00:00, 17.04it/s]\n"
     ]
    },
    {
     "name": "stdout",
     "output_type": "stream",
     "text": [
      "[2024/09/10 13:42:13] ppocr CRITICAL: precision:0.8270412642669008\n",
      "[2024/09/10 13:42:13] ppocr CRITICAL: recall:0.578979717271051\n",
      "[2024/09/10 13:42:13] ppocr CRITICAL: hmean:0.6811279826464208\n",
      "[2024/09/10 13:42:13] ppocr CRITICAL: fps:18.586682942102083\n",
      "----- 350 -----\n"
     ]
    },
    {
     "name": "stderr",
     "output_type": "stream",
     "text": [
      "W0910 13:42:17.168557 405587 gpu_resources.cc:119] Please NOTE: device: 0, GPU Compute Capability: 8.9, Driver API Version: 12.2, Runtime API Version: 11.8\n",
      "W0910 13:42:17.169538 405587 gpu_resources.cc:164] device: 0, cuDNN Version: 8.7.\n",
      "eval model:: 100%|██████████| 294/294 [00:18<00:00, 16.17it/s]\n"
     ]
    },
    {
     "name": "stdout",
     "output_type": "stream",
     "text": [
      "[2024/09/10 13:42:35] ppocr CRITICAL: precision:0.8405003909304144\n",
      "[2024/09/10 13:42:35] ppocr CRITICAL: recall:0.6607252612169637\n",
      "[2024/09/10 13:42:35] ppocr CRITICAL: hmean:0.7398485891259462\n",
      "[2024/09/10 13:42:35] ppocr CRITICAL: fps:17.828926677036947\n",
      "----- 360 -----\n"
     ]
    },
    {
     "name": "stderr",
     "output_type": "stream",
     "text": [
      "W0910 13:42:39.566009 405811 gpu_resources.cc:119] Please NOTE: device: 0, GPU Compute Capability: 8.9, Driver API Version: 12.2, Runtime API Version: 11.8\n",
      "W0910 13:42:39.566965 405811 gpu_resources.cc:164] device: 0, cuDNN Version: 8.7.\n",
      "eval model:: 100%|██████████| 294/294 [00:16<00:00, 17.33it/s]\n"
     ]
    },
    {
     "name": "stdout",
     "output_type": "stream",
     "text": [
      "[2024/09/10 13:42:56] ppocr CRITICAL: precision:0.8202068416865553\n",
      "[2024/09/10 13:42:56] ppocr CRITICAL: recall:0.633681622618316\n",
      "[2024/09/10 13:42:56] ppocr CRITICAL: hmean:0.71497919556172\n",
      "[2024/09/10 13:42:56] ppocr CRITICAL: fps:19.06796121609184\n",
      "----- 370 -----\n"
     ]
    },
    {
     "name": "stderr",
     "output_type": "stream",
     "text": [
      "W0910 13:42:59.800855 406031 gpu_resources.cc:119] Please NOTE: device: 0, GPU Compute Capability: 8.9, Driver API Version: 12.2, Runtime API Version: 11.8\n",
      "W0910 13:42:59.801442 406031 gpu_resources.cc:164] device: 0, cuDNN Version: 8.7.\n",
      "eval model:: 100%|██████████| 294/294 [00:16<00:00, 18.36it/s]\n"
     ]
    },
    {
     "name": "stdout",
     "output_type": "stream",
     "text": [
      "[2024/09/10 13:43:16] ppocr CRITICAL: precision:0.8104875804967802\n",
      "[2024/09/10 13:43:16] ppocr CRITICAL: recall:0.5414874001229256\n",
      "[2024/09/10 13:43:16] ppocr CRITICAL: hmean:0.649226234340457\n",
      "[2024/09/10 13:43:16] ppocr CRITICAL: fps:20.14255157704472\n",
      "----- 380 -----\n"
     ]
    },
    {
     "name": "stderr",
     "output_type": "stream",
     "text": [
      "W0910 13:43:19.696372 406249 gpu_resources.cc:119] Please NOTE: device: 0, GPU Compute Capability: 8.9, Driver API Version: 12.2, Runtime API Version: 11.8\n",
      "W0910 13:43:19.697086 406249 gpu_resources.cc:164] device: 0, cuDNN Version: 8.7.\n",
      "eval model:: 100%|██████████| 294/294 [00:16<00:00, 17.35it/s]\n"
     ]
    },
    {
     "name": "stdout",
     "output_type": "stream",
     "text": [
      "[2024/09/10 13:43:36] ppocr CRITICAL: precision:0.813632441760138\n",
      "[2024/09/10 13:43:36] ppocr CRITICAL: recall:0.5795943454210203\n",
      "[2024/09/10 13:43:36] ppocr CRITICAL: hmean:0.6769562096195262\n",
      "[2024/09/10 13:43:36] ppocr CRITICAL: fps:18.929632676279365\n",
      "----- 390 -----\n"
     ]
    },
    {
     "name": "stderr",
     "output_type": "stream",
     "text": [
      "W0910 13:43:40.489296 406467 gpu_resources.cc:119] Please NOTE: device: 0, GPU Compute Capability: 8.9, Driver API Version: 12.2, Runtime API Version: 11.8\n",
      "W0910 13:43:40.490263 406467 gpu_resources.cc:164] device: 0, cuDNN Version: 8.7.\n",
      "eval model:: 100%|██████████| 294/294 [00:18<00:00, 16.06it/s]\n"
     ]
    },
    {
     "name": "stdout",
     "output_type": "stream",
     "text": [
      "[2024/09/10 13:43:59] ppocr CRITICAL: precision:0.826271186440678\n",
      "[2024/09/10 13:43:59] ppocr CRITICAL: recall:0.5992624462200369\n",
      "[2024/09/10 13:43:59] ppocr CRITICAL: hmean:0.6946918418240113\n",
      "[2024/09/10 13:43:59] ppocr CRITICAL: fps:17.52771557942911\n",
      "----- 400 -----\n"
     ]
    },
    {
     "name": "stderr",
     "output_type": "stream",
     "text": [
      "W0910 13:44:02.657784 406697 gpu_resources.cc:119] Please NOTE: device: 0, GPU Compute Capability: 8.9, Driver API Version: 12.2, Runtime API Version: 11.8\n",
      "W0910 13:44:02.658565 406697 gpu_resources.cc:164] device: 0, cuDNN Version: 8.7.\n",
      "eval model:: 100%|██████████| 294/294 [00:18<00:00, 16.26it/s]\n"
     ]
    },
    {
     "name": "stdout",
     "output_type": "stream",
     "text": [
      "[2024/09/10 13:44:21] ppocr CRITICAL: precision:0.8343145500420521\n",
      "[2024/09/10 13:44:21] ppocr CRITICAL: recall:0.6097111247695144\n",
      "[2024/09/10 13:44:21] ppocr CRITICAL: hmean:0.7045454545454545\n",
      "[2024/09/10 13:44:21] ppocr CRITICAL: fps:17.745191829764327\n",
      "----- 410 -----\n"
     ]
    },
    {
     "name": "stderr",
     "output_type": "stream",
     "text": [
      "W0910 13:44:24.498243 406918 gpu_resources.cc:119] Please NOTE: device: 0, GPU Compute Capability: 8.9, Driver API Version: 12.2, Runtime API Version: 11.8\n",
      "W0910 13:44:24.498819 406918 gpu_resources.cc:164] device: 0, cuDNN Version: 8.7.\n",
      "eval model:: 100%|██████████| 294/294 [00:16<00:00, 17.79it/s]\n"
     ]
    },
    {
     "name": "stdout",
     "output_type": "stream",
     "text": [
      "[2024/09/10 13:44:41] ppocr CRITICAL: precision:0.8057620817843866\n",
      "[2024/09/10 13:44:41] ppocr CRITICAL: recall:0.5328826060233559\n",
      "[2024/09/10 13:44:41] ppocr CRITICAL: hmean:0.6415094339622642\n",
      "[2024/09/10 13:44:41] ppocr CRITICAL: fps:19.425821276607007\n",
      "----- 420 -----\n"
     ]
    },
    {
     "name": "stderr",
     "output_type": "stream",
     "text": [
      "W0910 13:44:44.445288 407137 gpu_resources.cc:119] Please NOTE: device: 0, GPU Compute Capability: 8.9, Driver API Version: 12.2, Runtime API Version: 11.8\n",
      "W0910 13:44:44.445858 407137 gpu_resources.cc:164] device: 0, cuDNN Version: 8.7.\n",
      "eval model:: 100%|██████████| 294/294 [00:16<00:00, 17.67it/s]\n"
     ]
    },
    {
     "name": "stdout",
     "output_type": "stream",
     "text": [
      "[2024/09/10 13:45:01] ppocr CRITICAL: precision:0.8297682709447415\n",
      "[2024/09/10 13:45:01] ppocr CRITICAL: recall:0.5722188076213891\n",
      "[2024/09/10 13:45:01] ppocr CRITICAL: hmean:0.6773372135321936\n",
      "[2024/09/10 13:45:01] ppocr CRITICAL: fps:19.288855086334816\n",
      "----- 430 -----\n"
     ]
    },
    {
     "name": "stderr",
     "output_type": "stream",
     "text": [
      "W0910 13:45:04.869194 407359 gpu_resources.cc:119] Please NOTE: device: 0, GPU Compute Capability: 8.9, Driver API Version: 12.2, Runtime API Version: 11.8\n",
      "W0910 13:45:04.869998 407359 gpu_resources.cc:164] device: 0, cuDNN Version: 8.7.\n",
      "eval model:: 100%|██████████| 294/294 [00:17<00:00, 16.78it/s]\n"
     ]
    },
    {
     "name": "stdout",
     "output_type": "stream",
     "text": [
      "[2024/09/10 13:45:22] ppocr CRITICAL: precision:0.8158590308370044\n",
      "[2024/09/10 13:45:22] ppocr CRITICAL: recall:0.5691456668715427\n",
      "[2024/09/10 13:45:22] ppocr CRITICAL: hmean:0.6705286024619841\n",
      "[2024/09/10 13:45:22] ppocr CRITICAL: fps:18.268113529952224\n",
      "----- 440 -----\n"
     ]
    },
    {
     "name": "stderr",
     "output_type": "stream",
     "text": [
      "W0910 13:45:26.221951 407585 gpu_resources.cc:119] Please NOTE: device: 0, GPU Compute Capability: 8.9, Driver API Version: 12.2, Runtime API Version: 11.8\n",
      "W0910 13:45:26.222910 407585 gpu_resources.cc:164] device: 0, cuDNN Version: 8.7.\n",
      "eval model:: 100%|██████████| 294/294 [00:17<00:00, 16.85it/s]\n"
     ]
    },
    {
     "name": "stdout",
     "output_type": "stream",
     "text": [
      "[2024/09/10 13:45:44] ppocr CRITICAL: precision:0.8166368515205724\n",
      "[2024/09/10 13:45:44] ppocr CRITICAL: recall:0.5611555009219422\n",
      "[2024/09/10 13:45:44] ppocr CRITICAL: hmean:0.6652094717668489\n",
      "[2024/09/10 13:45:44] ppocr CRITICAL: fps:18.4168308716905\n",
      "----- 450 -----\n"
     ]
    },
    {
     "name": "stderr",
     "output_type": "stream",
     "text": [
      "W0910 13:45:47.634531 407807 gpu_resources.cc:119] Please NOTE: device: 0, GPU Compute Capability: 8.9, Driver API Version: 12.2, Runtime API Version: 11.8\n",
      "W0910 13:45:47.635502 407807 gpu_resources.cc:164] device: 0, cuDNN Version: 8.7.\n",
      "eval model:: 100%|██████████| 294/294 [00:17<00:00, 17.18it/s]\n"
     ]
    },
    {
     "name": "stdout",
     "output_type": "stream",
     "text": [
      "[2024/09/10 13:46:05] ppocr CRITICAL: precision:0.8189964157706093\n",
      "[2024/09/10 13:46:05] ppocr CRITICAL: recall:0.5617701290719115\n",
      "[2024/09/10 13:46:05] ppocr CRITICAL: hmean:0.6664236237695953\n",
      "[2024/09/10 13:46:05] ppocr CRITICAL: fps:18.7953101308676\n",
      "----- 460 -----\n"
     ]
    },
    {
     "name": "stderr",
     "output_type": "stream",
     "text": [
      "W0910 13:46:08.158907 408028 gpu_resources.cc:119] Please NOTE: device: 0, GPU Compute Capability: 8.9, Driver API Version: 12.2, Runtime API Version: 11.8\n",
      "W0910 13:46:08.159484 408028 gpu_resources.cc:164] device: 0, cuDNN Version: 8.7.\n",
      "eval model:: 100%|██████████| 294/294 [00:16<00:00, 18.11it/s]\n"
     ]
    },
    {
     "name": "stdout",
     "output_type": "stream",
     "text": [
      "[2024/09/10 13:46:24] ppocr CRITICAL: precision:0.8257372654155496\n",
      "[2024/09/10 13:46:24] ppocr CRITICAL: recall:0.5679164105716041\n",
      "[2024/09/10 13:46:24] ppocr CRITICAL: hmean:0.672978878368536\n",
      "[2024/09/10 13:46:24] ppocr CRITICAL: fps:19.802276721960897\n",
      "----- 470 -----\n"
     ]
    },
    {
     "name": "stderr",
     "output_type": "stream",
     "text": [
      "W0910 13:46:28.173095 408246 gpu_resources.cc:119] Please NOTE: device: 0, GPU Compute Capability: 8.9, Driver API Version: 12.2, Runtime API Version: 11.8\n",
      "W0910 13:46:28.174054 408246 gpu_resources.cc:164] device: 0, cuDNN Version: 8.7.\n",
      "eval model:: 100%|██████████| 294/294 [00:17<00:00, 16.78it/s]\n"
     ]
    },
    {
     "name": "stdout",
     "output_type": "stream",
     "text": [
      "[2024/09/10 13:46:46] ppocr CRITICAL: precision:0.7938342967244701\n",
      "[2024/09/10 13:46:46] ppocr CRITICAL: recall:0.5064535955746773\n",
      "[2024/09/10 13:46:46] ppocr CRITICAL: hmean:0.6183864915572233\n",
      "[2024/09/10 13:46:46] ppocr CRITICAL: fps:18.2632986209442\n",
      "----- 480 -----\n"
     ]
    },
    {
     "name": "stderr",
     "output_type": "stream",
     "text": [
      "W0910 13:46:49.918305 408468 gpu_resources.cc:119] Please NOTE: device: 0, GPU Compute Capability: 8.9, Driver API Version: 12.2, Runtime API Version: 11.8\n",
      "W0910 13:46:49.919284 408468 gpu_resources.cc:164] device: 0, cuDNN Version: 8.7.\n",
      "eval model:: 100%|██████████| 294/294 [00:16<00:00, 18.13it/s]\n"
     ]
    },
    {
     "name": "stdout",
     "output_type": "stream",
     "text": [
      "[2024/09/10 13:47:06] ppocr CRITICAL: precision:0.8139130434782609\n",
      "[2024/09/10 13:47:06] ppocr CRITICAL: recall:0.5752919483712354\n",
      "[2024/09/10 13:47:06] ppocr CRITICAL: hmean:0.6741087504501261\n",
      "[2024/09/10 13:47:06] ppocr CRITICAL: fps:19.94583462679622\n",
      "----- 490 -----\n"
     ]
    },
    {
     "name": "stderr",
     "output_type": "stream",
     "text": [
      "W0910 13:47:09.951301 408686 gpu_resources.cc:119] Please NOTE: device: 0, GPU Compute Capability: 8.9, Driver API Version: 12.2, Runtime API Version: 11.8\n",
      "W0910 13:47:09.951901 408686 gpu_resources.cc:164] device: 0, cuDNN Version: 8.7.\n",
      "eval model:: 100%|██████████| 294/294 [00:16<00:00, 17.90it/s]\n"
     ]
    },
    {
     "name": "stdout",
     "output_type": "stream",
     "text": [
      "[2024/09/10 13:47:26] ppocr CRITICAL: precision:0.829246935201401\n",
      "[2024/09/10 13:47:26] ppocr CRITICAL: recall:0.5820528580208973\n",
      "[2024/09/10 13:47:26] ppocr CRITICAL: hmean:0.6840014445648248\n",
      "[2024/09/10 13:47:26] ppocr CRITICAL: fps:19.604304470411208\n",
      "----- 500 -----\n"
     ]
    },
    {
     "name": "stderr",
     "output_type": "stream",
     "text": [
      "W0910 13:47:30.139606 408904 gpu_resources.cc:119] Please NOTE: device: 0, GPU Compute Capability: 8.9, Driver API Version: 12.2, Runtime API Version: 11.8\n",
      "W0910 13:47:30.140558 408904 gpu_resources.cc:164] device: 0, cuDNN Version: 8.7.\n",
      "eval model:: 100%|██████████| 294/294 [00:17<00:00, 17.29it/s]\n"
     ]
    },
    {
     "name": "stdout",
     "output_type": "stream",
     "text": [
      "[2024/09/10 13:47:47] ppocr CRITICAL: precision:0.8386540120793787\n",
      "[2024/09/10 13:47:47] ppocr CRITICAL: recall:0.5974185617701291\n",
      "[2024/09/10 13:47:47] ppocr CRITICAL: hmean:0.6977745872218234\n",
      "[2024/09/10 13:47:47] ppocr CRITICAL: fps:18.867289685993924\n"
     ]
    }
   ],
   "source": [
    "for epoch in epoches:\n",
    "    print('-'*5, epoch ,'-'*5)\n",
    "    weight = './output/ch_PP-OCRv4-teacher-9-9/iter_epoch_%s'% epoch\n",
    "    os.system(\"python tools/eval.py  -c configs/det/ch_PP-OCRv4/ch_PP-OCRv4_det_teacher.yml -o Global.checkpoints=\"+weight)"
   ]
  },
  {
   "cell_type": "code",
   "execution_count": null,
   "metadata": {},
   "outputs": [],
   "source": []
  }
 ],
 "metadata": {
  "kernelspec": {
   "display_name": "paddle_new",
   "language": "python",
   "name": "python3"
  },
  "language_info": {
   "codemirror_mode": {
    "name": "ipython",
    "version": 3
   },
   "file_extension": ".py",
   "mimetype": "text/x-python",
   "name": "python",
   "nbconvert_exporter": "python",
   "pygments_lexer": "ipython3",
   "version": "3.10.14"
  }
 },
 "nbformat": 4,
 "nbformat_minor": 2
}
