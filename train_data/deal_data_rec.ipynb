{
 "cells": [
  {
   "cell_type": "code",
   "execution_count": 13,
   "metadata": {},
   "outputs": [],
   "source": [
    "import os\n",
    "import random\n",
    "import shutil\n",
    "# ------------------- rec_gt_train.txt and rec_gt_test.txt 需要手动删除"
   ]
  },
  {
   "cell_type": "code",
   "execution_count": 14,
   "metadata": {},
   "outputs": [
    {
     "data": {
      "text/plain": [
       "0.5725031880275658"
      ]
     },
     "execution_count": 14,
     "metadata": {},
     "output_type": "execute_result"
    }
   ],
   "source": [
    "random.random()"
   ]
  },
  {
   "cell_type": "code",
   "execution_count": 15,
   "metadata": {},
   "outputs": [],
   "source": [
    "tot_dir = r'./rec/tot_source'\n",
    "\n",
    "train_img_dir = r'./rec/train' # 训练集\n",
    "val_img_dir = r'./rec/val'     # 验证集\n",
    "test_img_dir = r'./rec/test'   # 测试集\n",
    "if os.path.exists(train_img_dir):\n",
    "    shutil.rmtree(train_img_dir)\n",
    "os.mkdir(train_img_dir)\n",
    "\n",
    "if os.path.exists(val_img_dir):\n",
    "    shutil.rmtree(val_img_dir)\n",
    "os.mkdir(val_img_dir)\n",
    "\n",
    "if os.path.exists(test_img_dir):\n",
    "    shutil.rmtree(test_img_dir)\n",
    "os.mkdir(test_img_dir)\n",
    "\n",
    "# 训练集  《图片名称\\t图像内容》\n",
    "train_file_rec = './rec/rec_gt_train.txt'\n",
    "if os.path.exists(train_file_rec):\n",
    "    os.remove(train_file_rec)\n",
    "\n",
    "# 验证集  《图片名称\\t图像内容》\n",
    "val_file_rec = './rec/rec_gt_val.txt'\n",
    "if os.path.exists(val_file_rec):\n",
    "    os.remove(val_file_rec)\n",
    "\n",
    "for i in os.listdir(tot_dir):\n",
    "    if i.endswith('.jpg'):\n",
    "        detail_txt_path = os.path.join(tot_dir,i.replace('.jpg','.txt').replace('.png','.txt'))\n",
    "        with open(detail_txt_path,'r',encoding='utf-8') as reader:\n",
    "            label_con = reader.readline()\n",
    "        detail_img_path = os.path.join(tot_dir,i)\n",
    "        \n",
    "        choice_dataset_type = random.random()\n",
    "        if choice_dataset_type < 0.7:\n",
    "            # 训练集\n",
    "            dst_img_path = os.path.join(train_img_dir,i)\n",
    "            with open(train_file_rec, 'a', encoding='utf-8') as train_w:\n",
    "                con = 'train/%s'%(i) + '\\t' + label_con + '\\n'\n",
    "                train_w.write(con)\n",
    "        elif choice_dataset_type < 0.9:\n",
    "            # 验证集\n",
    "            dst_img_path = os.path.join(val_img_dir,i)\n",
    "            with open(val_file_rec, 'a', encoding='utf-8') as val_w:\n",
    "                con = 'val/%s'%(i) + '\\t' + label_con + '\\n'\n",
    "                val_w.write(con)\n",
    "        else: \n",
    "            # 测试集\n",
    "            shutil.copy(detail_txt_path, test_img_dir)\n",
    "            dst_img_path = os.path.join(test_img_dir, i)\n",
    "            \n",
    "        shutil.copy(detail_img_path,dst_img_path)\n",
    "        "
   ]
  },
  {
   "cell_type": "code",
   "execution_count": null,
   "metadata": {},
   "outputs": [],
   "source": []
  },
  {
   "cell_type": "code",
   "execution_count": null,
   "metadata": {},
   "outputs": [],
   "source": []
  }
 ],
 "metadata": {
  "kernelspec": {
   "display_name": "paddle_new",
   "language": "python",
   "name": "python3"
  },
  "language_info": {
   "codemirror_mode": {
    "name": "ipython",
    "version": 3
   },
   "file_extension": ".py",
   "mimetype": "text/x-python",
   "name": "python",
   "nbconvert_exporter": "python",
   "pygments_lexer": "ipython3",
   "version": "3.10.14"
  }
 },
 "nbformat": 4,
 "nbformat_minor": 2
}
