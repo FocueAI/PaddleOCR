{
 "cells": [
  {
   "cell_type": "code",
   "execution_count": 23,
   "metadata": {},
   "outputs": [],
   "source": [
    "import os,cv2\n",
    "from shapely.geometry import Point, LineString, Polygon\n",
    "from shapely import geometry as geo\n",
    "import pyclipper\n",
    "\n",
    "\n",
    "label_path = r'det_bookspine_text/train.txt'\n",
    "with open(label_path, 'r', encoding='utf-8') as reader:\n",
    "    cons = reader.readlines()\n",
    "#####################################################################\n",
    "\n",
    "\n",
    "bg,series,barcode,author,publish,title,call_no,other = [],[],[],[], [],[],[],[]\n",
    "\n",
    "\n",
    "def get_this_book_areas(img_path, label):\n",
    "    \n",
    "    class2area_dict = {\n",
    "    \"bg\":[],\n",
    "    \"series\":[],\n",
    "    \"barcode\":[],\n",
    "    \"author\":[],\n",
    "    \"publish\":[],\n",
    "    \"title\":[],\n",
    "    \"call_no\":[],\n",
    "    \"other\":[]\n",
    "    }\n",
    "    \n",
    "    detail_img_path = os.path.join(\"det_bookspine_text\",img_path)\n",
    "    im_h, im_w = cv2.imread(detail_img_path).shape[:2]\n",
    "    im_area = im_h * im_w\n",
    "  \n",
    "    # print(f\"label:{label}\")\n",
    "    ############################################################################\n",
    "    for box_info in eval(label):\n",
    "        box = box_info[\"points\"]\n",
    "        cls = box_info[\"class\"]\n",
    "        \n",
    "        polygon_box = Polygon(box)\n",
    "        class2area_dict[cls].append(polygon_box.area)\n",
    "    class2area_dict = {cls:sum(area_l) for cls, area_l in class2area_dict.items()}\n",
    "    class2area_dict[\"bg\"] = im_area-sum(list(class2area_dict.values()))\n",
    "    \n",
    "    return class2area_dict\n",
    "\n",
    "\n",
    "\n",
    "#####################################################################\n",
    "for con in cons:\n",
    "    # con 是一本书的信息。。。。。。。。。。。\n",
    "    # print(f\"con:{con}\")\n",
    "    img_path, label = con.split('\\t')\n",
    "    class2area_dict = get_this_book_areas(img_path, label)\n",
    "\n",
    "    bg.append(class2area_dict[\"bg\"])\n",
    "    series.append(class2area_dict[\"series\"])\n",
    "    barcode.append(class2area_dict[\"barcode\"])\n",
    "    author.append(class2area_dict[\"author\"])\n",
    "    publish.append(class2area_dict[\"publish\"])\n",
    "    title.append(class2area_dict[\"title\"])\n",
    "    call_no.append(class2area_dict[\"call_no\"])\n",
    "    other.append(class2area_dict[\"other\"])"
   ]
  },
  {
   "cell_type": "code",
   "execution_count": 30,
   "metadata": {},
   "outputs": [
    {
     "data": {
      "text/plain": [
       "130423.5"
      ]
     },
     "execution_count": 30,
     "metadata": {},
     "output_type": "execute_result"
    }
   ],
   "source": [
    "area_l = [sum(bg),sum(series),sum(barcode),sum(author),sum(publish),sum(title),sum(call_no),sum(other)]\n",
    "min(area_l)"
   ]
  },
  {
   "cell_type": "code",
   "execution_count": 33,
   "metadata": {},
   "outputs": [
    {
     "data": {
      "text/plain": [
       "[32167587.5,\n",
       " 1881212.0,\n",
       " 4118213.0,\n",
       " 715631.0,\n",
       " 619306.5,\n",
       " 7679192.5,\n",
       " 1752214.0,\n",
       " 130423.5]"
      ]
     },
     "execution_count": 33,
     "metadata": {},
     "output_type": "execute_result"
    }
   ],
   "source": [
    "area_l"
   ]
  },
  {
   "cell_type": "code",
   "execution_count": null,
   "metadata": {},
   "outputs": [
    {
     "data": {
      "text/plain": [
       "[1.0,\n",
       " 17.09939523030897,\n",
       " 7.811054819165498,\n",
       " 44.949963738295295,\n",
       " 51.9413045075419,\n",
       " 4.188928393187174,\n",
       " 18.3582527590808,\n",
       " 246.63950515052886]"
      ]
     },
     "execution_count": 32,
     "metadata": {},
     "output_type": "execute_result"
    }
   ],
   "source": [
    "[max(area_l)/i for i in area_l]  # 面积应该于要设置 交叉熵损失的面积成反比"
   ]
  },
  {
   "cell_type": "code",
   "execution_count": null,
   "metadata": {},
   "outputs": [],
   "source": []
  },
  {
   "cell_type": "code",
   "execution_count": null,
   "metadata": {},
   "outputs": [],
   "source": []
  },
  {
   "cell_type": "code",
   "execution_count": null,
   "metadata": {},
   "outputs": [
    {
     "data": {
      "text/plain": [
       "32167587.5"
      ]
     },
     "execution_count": 22,
     "metadata": {},
     "output_type": "execute_result"
    }
   ],
   "source": [
    "sum(bg),sum(series),"
   ]
  },
  {
   "cell_type": "code",
   "execution_count": null,
   "metadata": {},
   "outputs": [],
   "source": []
  }
 ],
 "metadata": {
  "kernelspec": {
   "display_name": "paddle_new",
   "language": "python",
   "name": "python3"
  },
  "language_info": {
   "codemirror_mode": {
    "name": "ipython",
    "version": 3
   },
   "file_extension": ".py",
   "mimetype": "text/x-python",
   "name": "python",
   "nbconvert_exporter": "python",
   "pygments_lexer": "ipython3",
   "version": "3.10.14"
  }
 },
 "nbformat": 4,
 "nbformat_minor": 2
}
