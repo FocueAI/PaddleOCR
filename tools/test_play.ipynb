{
 "cells": [
  {
   "cell_type": "code",
   "execution_count": 2,
   "metadata": {},
   "outputs": [
    {
     "name": "stdout",
     "output_type": "stream",
     "text": [
      "Tensor(shape=[], dtype=float32, place=Place(gpu:0), stop_gradient=True,\n",
      "       2.34465480)\n"
     ]
    }
   ],
   "source": [
    "import paddle\n",
    "import paddle.nn as nn\n",
    "\n",
    "# 假设 logits 是模型的输出，labels 是真实的标签\n",
    "logits = paddle.randn(shape=[12, 7, 320, 1280])  # 模拟模型输出\n",
    "labels = paddle.randint(0, 7, shape=[12, 320, 1280])  # 模拟真实标签，确保是 int64 类型\n",
    "\n",
    "# 创建 CrossEntropyLoss 实例\n",
    "loss_fn = nn.CrossEntropyLoss(axis=1)\n",
    "\n",
    "# 计算损失\n",
    "loss = loss_fn(logits, labels)\n",
    "\n",
    "# 打印损失\n",
    "print(loss)"
   ]
  },
  {
   "cell_type": "code",
   "execution_count": null,
   "metadata": {},
   "outputs": [],
   "source": []
  }
 ],
 "metadata": {
  "kernelspec": {
   "display_name": "paddle_new",
   "language": "python",
   "name": "python3"
  },
  "language_info": {
   "codemirror_mode": {
    "name": "ipython",
    "version": 3
   },
   "file_extension": ".py",
   "mimetype": "text/x-python",
   "name": "python",
   "nbconvert_exporter": "python",
   "pygments_lexer": "ipython3",
   "version": "3.10.14"
  }
 },
 "nbformat": 4,
 "nbformat_minor": 2
}
